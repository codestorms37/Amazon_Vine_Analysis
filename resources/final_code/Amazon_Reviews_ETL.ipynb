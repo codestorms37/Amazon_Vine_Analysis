{
  "nbformat": 4,
  "nbformat_minor": 0,
  "metadata": {
    "colab": {
      "name": "Amazon_Reviews_ETL.ipynb",
      "provenance": [],
      "collapsed_sections": [
        "WYTpzOm13wAB"
      ]
    },
    "kernelspec": {
      "name": "python3",
      "display_name": "Python 3"
    },
    "nteract": {
      "version": "0.12.3"
    },
    "language_info": {
      "name": "python"
    }
  },
  "cells": [
    {
      "cell_type": "markdown",
      "metadata": {
        "id": "Pu3fcY4j3mSM"
      },
      "source": [
        "# Install Spark"
      ]
    },
    {
      "cell_type": "code",
      "metadata": {
        "id": "V58rxea0HqSa",
        "colab": {
          "base_uri": "https://localhost:8080/"
        },
        "outputId": "da0680fd-837f-45bc-cd34-bed7b150a9d4"
      },
      "source": [
        "import os\n",
        "# Find the latest version of spark 3.0  from http://www.apache.org/dist/spark/ and enter as the spark version\n",
        "# For example:\n",
        "# spark_version = 'spark-3.0.3'\n",
        "spark_version = 'spark-3.2.0'\n",
        "os.environ['SPARK_VERSION']=spark_version\n",
        "\n",
        "# Install Spark and Java\n",
        "!apt-get update\n",
        "!apt-get install openjdk-11-jdk-headless -qq > /dev/null\n",
        "!wget -q http://www.apache.org/dist/spark/$SPARK_VERSION/$SPARK_VERSION-bin-hadoop2.7.tgz\n",
        "!tar xf $SPARK_VERSION-bin-hadoop2.7.tgz\n",
        "!pip install -q findspark\n",
        "\n",
        "# Set Environment Variables\n",
        "import os\n",
        "os.environ[\"JAVA_HOME\"] = \"/usr/lib/jvm/java-11-openjdk-amd64\"\n",
        "os.environ[\"SPARK_HOME\"] = f\"/content/{spark_version}-bin-hadoop2.7\"\n",
        "\n",
        "# Start a SparkSession\n",
        "import findspark\n",
        "findspark.init()"
      ],
      "execution_count": 1,
      "outputs": [
        {
          "output_type": "stream",
          "name": "stdout",
          "text": [
            "\r0% [Working]\r            \rGet:1 http://security.ubuntu.com/ubuntu bionic-security InRelease [88.7 kB]\n",
            "\r0% [Connecting to archive.ubuntu.com] [1 InRelease 14.2 kB/88.7 kB 16%] [Connec\r0% [Connecting to archive.ubuntu.com (91.189.88.142)] [Waiting for headers] [Wa\r                                                                               \rGet:2 https://cloud.r-project.org/bin/linux/ubuntu bionic-cran40/ InRelease [3,626 B]\n",
            "Ign:3 https://developer.download.nvidia.com/compute/cuda/repos/ubuntu1804/x86_64  InRelease\n",
            "Hit:4 http://ppa.launchpad.net/c2d4u.team/c2d4u4.0+/ubuntu bionic InRelease\n",
            "Ign:5 https://developer.download.nvidia.com/compute/machine-learning/repos/ubuntu1804/x86_64  InRelease\n",
            "Hit:6 https://developer.download.nvidia.com/compute/cuda/repos/ubuntu1804/x86_64  Release\n",
            "Hit:7 https://developer.download.nvidia.com/compute/machine-learning/repos/ubuntu1804/x86_64  Release\n",
            "Hit:8 http://archive.ubuntu.com/ubuntu bionic InRelease\n",
            "Hit:9 http://ppa.launchpad.net/cran/libgit2/ubuntu bionic InRelease\n",
            "Get:10 http://archive.ubuntu.com/ubuntu bionic-updates InRelease [88.7 kB]\n",
            "Hit:11 http://ppa.launchpad.net/deadsnakes/ppa/ubuntu bionic InRelease\n",
            "Get:12 http://security.ubuntu.com/ubuntu bionic-security/restricted amd64 Packages [607 kB]\n",
            "Get:13 http://archive.ubuntu.com/ubuntu bionic-backports InRelease [74.6 kB]\n",
            "Hit:14 http://ppa.launchpad.net/graphics-drivers/ppa/ubuntu bionic InRelease\n",
            "Get:15 http://security.ubuntu.com/ubuntu bionic-security/universe amd64 Packages [1,431 kB]\n",
            "Get:16 http://security.ubuntu.com/ubuntu bionic-security/main amd64 Packages [2,367 kB]\n",
            "Get:17 https://cloud.r-project.org/bin/linux/ubuntu bionic-cran40/ Packages [69.5 kB]\n",
            "Get:20 http://archive.ubuntu.com/ubuntu bionic-updates/main amd64 Packages [2,803 kB]\n",
            "Get:21 http://archive.ubuntu.com/ubuntu bionic-updates/universe amd64 Packages [2,210 kB]\n",
            "Get:22 http://archive.ubuntu.com/ubuntu bionic-updates/restricted amd64 Packages [640 kB]\n",
            "Fetched 10.4 MB in 5s (1,974 kB/s)\n",
            "Reading package lists... Done\n"
          ]
        }
      ]
    },
    {
      "cell_type": "markdown",
      "metadata": {
        "id": "WYTpzOm13wAB"
      },
      "source": [
        "# PostgreSQL driver"
      ]
    },
    {
      "cell_type": "code",
      "metadata": {
        "id": "_xKwTpATHqSe",
        "colab": {
          "base_uri": "https://localhost:8080/"
        },
        "outputId": "cfe1cd49-47ea-4af6-caaf-9f61567ace1f"
      },
      "source": [
        "# Download the Postgres driver that will allow Spark to interact with Postgres.\n",
        "!wget https://jdbc.postgresql.org/download/postgresql-42.2.16.jar"
      ],
      "execution_count": 2,
      "outputs": [
        {
          "output_type": "stream",
          "name": "stdout",
          "text": [
            "--2021-10-17 06:10:11--  https://jdbc.postgresql.org/download/postgresql-42.2.16.jar\n",
            "Resolving jdbc.postgresql.org (jdbc.postgresql.org)... 72.32.157.228, 2001:4800:3e1:1::228\n",
            "Connecting to jdbc.postgresql.org (jdbc.postgresql.org)|72.32.157.228|:443... connected.\n",
            "HTTP request sent, awaiting response... 200 OK\n",
            "Length: 1002883 (979K) [application/java-archive]\n",
            "Saving to: ‘postgresql-42.2.16.jar’\n",
            "\n",
            "postgresql-42.2.16. 100%[===================>] 979.38K  --.-KB/s    in 0.1s    \n",
            "\n",
            "2021-10-17 06:10:12 (6.63 MB/s) - ‘postgresql-42.2.16.jar’ saved [1002883/1002883]\n",
            "\n"
          ]
        }
      ]
    },
    {
      "cell_type": "markdown",
      "metadata": {
        "id": "vgrZINWY30tj"
      },
      "source": [
        "# Start a SparkSession with postgreSQL driver"
      ]
    },
    {
      "cell_type": "code",
      "metadata": {
        "id": "MMqDAjVS0KN9"
      },
      "source": [
        "from pyspark.sql import SparkSession\n",
        "spark = SparkSession.builder.appName(\"M16-Amazon-Challenge\").config(\"spark.driver.extraClassPath\",\"/content/postgresql-42.2.16.jar\").getOrCreate()"
      ],
      "execution_count": 3,
      "outputs": []
    },
    {
      "cell_type": "markdown",
      "metadata": {
        "id": "CBl419Ht38uk"
      },
      "source": [
        "# Extract"
      ]
    },
    {
      "cell_type": "markdown",
      "metadata": {
        "id": "cyBsySGuY-9V"
      },
      "source": [
        "### Load Amazon Data into Spark DataFrame"
      ]
    },
    {
      "cell_type": "code",
      "metadata": {
        "id": "6GWucHd94DkQ"
      },
      "source": [
        "from pyspark import SparkFiles"
      ],
      "execution_count": 4,
      "outputs": []
    },
    {
      "cell_type": "code",
      "metadata": {
        "id": "CtCmBhQJY-9Z"
      },
      "source": [
        "url = \"https://s3.amazonaws.com/amazon-reviews-pds/tsv/amazon_reviews_us_PC_v1_00.tsv.gz\"\n",
        "spark.sparkContext.addFile(url)\n",
        "df = spark.read.option(\"encoding\", \"UTF-8\").csv(SparkFiles.get(\"\"), sep=\"\\t\", header=True, inferSchema=True)"
      ],
      "execution_count": 5,
      "outputs": []
    },
    {
      "cell_type": "code",
      "metadata": {
        "colab": {
          "base_uri": "https://localhost:8080/"
        },
        "id": "jVlg8Gtt4d1R",
        "outputId": "3a35c5a3-4e9c-4a7b-e27b-09d25e14d6eb"
      },
      "source": [
        "df.show()"
      ],
      "execution_count": 6,
      "outputs": [
        {
          "output_type": "stream",
          "name": "stdout",
          "text": [
            "+-----------+-----------+--------------+----------+--------------+--------------------+----------------+-----------+-------------+-----------+----+-----------------+--------------------+--------------------+-----------+\n",
            "|marketplace|customer_id|     review_id|product_id|product_parent|       product_title|product_category|star_rating|helpful_votes|total_votes|vine|verified_purchase|     review_headline|         review_body|review_date|\n",
            "+-----------+-----------+--------------+----------+--------------+--------------------+----------------+-----------+-------------+-----------+----+-----------------+--------------------+--------------------+-----------+\n",
            "|         US|   22873041|R3ARRMDEGED8RD|B00KJWQIIC|     335625766|Plemo 14-Inch Lap...|              PC|          5|            0|          0|   N|                Y|Pleasantly surprised|I was very surpri...| 2015-08-31|\n",
            "|         US|   30088427| RQ28TSA020Y6J|B013ALA9LA|     671157305|TP-Link OnHub AC1...|              PC|          5|           24|         31|   N|                N|OnHub is a pretty...|I am a Google emp...| 2015-08-31|\n",
            "|         US|   20329786| RUXJRZCT6953M|B00PML2GQ8|     982036237|AmazonBasics USB ...|              PC|          1|            2|          2|   N|                N|None of them work...|Bought cables in ...| 2015-08-31|\n",
            "|         US|   14215710| R7EO0UO6BPB71|B001NS0OZ4|     576587596|Transcend P8 15-i...|              PC|          1|            0|          0|   N|                Y|just keep searching.|nope, cheap and slow| 2015-08-31|\n",
            "|         US|   38264512|R39NJY2YJ1JFSV|B00AQMTND2|     964759214|Aleratec SATA Dat...|              PC|          5|            0|          0|   N|                Y|          Five Stars|Excellent! Great ...| 2015-08-31|\n",
            "|         US|   30548466|R31SR7REWNX7CF|B00KX4TORI|     170101802|Kingston Digital ...|              PC|          5|            0|          0|   N|                Y|Good quality, wor...|Good quality,work...| 2015-08-31|\n",
            "|         US|     589298| RVBP8I1R0CTZ8|B00P17WEMY|     206124740|White 9 Inch Unlo...|              PC|          3|            1|          2|   N|                Y|in fact this is t...|This demn tablet ...| 2015-08-31|\n",
            "|         US|   49329488|R1QF6RS1PDLU18|B00TR05L9Y|     778403103|Lenovo TAB2 A10 -...|              PC|          4|            1|          1|   N|                Y|                Good|I am not sure I d...| 2015-08-31|\n",
            "|         US|   50728290|R23AICGEDAJQL1|B0098Y77OG|     177098042|                Acer|              PC|          1|            0|          0|   N|                Y|You get what you ...|After exactly 45 ...| 2015-08-31|\n",
            "|         US|   37802374|R2EY3N4K9W19UP|B00IFYEYXC|     602496520|AzureWave Broadco...|              PC|          5|            3|          4|   N|                Y|Great for Windows...|Replaced my Intel...| 2015-08-31|\n",
            "|         US|   52027882| RC9AW4HKJ016M|B0091ITP0S|     977217357|HDE Rotating iPad...|              PC|          1|            0|          0|   N|                Y|            One Star|IT HAS ALREADY CR...| 2015-08-31|\n",
            "|         US|   41770239|R2ALWJE9N6ZBXD|B008I21EA2|     295632907|Linksys AC1750 Wi...|              PC|          1|            0|          0|   N|                N|   Very Disappointed|Very disappointed...| 2015-08-31|\n",
            "|         US|   42560427|R2G5FPA4OX37GV|B00MRB7SBO|     922591915|iPad Pro 9.7, iPa...|              PC|          5|            1|          1|   N|                Y|          Five Stars|Works well. I use...| 2015-08-31|\n",
            "|         US|   46345923|R1IKTSEVXSIMOD|B00LLER2CS|     997551273|SanDisk 16GB CZ43...|              PC|          5|            0|          0|   N|                Y|The encryption so...|The encryption so...| 2015-08-31|\n",
            "|         US|   41751192|R2YA6G6SRFEWF6|B00B0CQCCC|     937999925|TRENDnet Wireless...|              PC|          1|            0|          1|   N|                Y|Didn't last 2 years.|I have owned this...| 2015-08-31|\n",
            "|         US|   21176481| RS9H1N9I3Z1IA|B00GU8W5AE|      13865167|Redragon M901 PER...|              PC|          5|            0|          0|   N|                Y|Awesome gaming mouse|My first gaming m...| 2015-08-31|\n",
            "|         US|   10674058| RKKLBI76VTDNT|B00XHMXJQ0|     967483469|Mudder MHL Adapte...|              PC|          1|            0|          0|   N|                Y|            One Star|I cannot get it t...| 2015-08-31|\n",
            "|         US|   43341796|R2NJ3WFUS4E5G6|B00YGJJQ6U|     986548413|Fintie iPad Air 2...|              PC|          4|            0|          0|   N|                Y|Great choices of ...|Love that Finite ...| 2015-08-31|\n",
            "|         US|   13232866|R21PTQNLGCBN0I|B00XMN20Y6|     873354048|Fintie iPad 2/3/4...|              PC|          5|            0|          0|   N|                Y|          Five Stars|Nice color, I lov...| 2015-08-31|\n",
            "|         US|   29333557|R3G4RT3EQ9RSY7|B00MA40W9I|     535866197|Egoway® New Lapto...|              PC|          1|            0|          0|   N|                Y|Totally wasted $6...|Totally wasted $6...| 2015-08-31|\n",
            "+-----------+-----------+--------------+----------+--------------+--------------------+----------------+-----------+-------------+-----------+----+-----------------+--------------------+--------------------+-----------+\n",
            "only showing top 20 rows\n",
            "\n"
          ]
        }
      ]
    },
    {
      "cell_type": "code",
      "metadata": {
        "colab": {
          "base_uri": "https://localhost:8080/"
        },
        "id": "tHqhAYGE5DSH",
        "outputId": "a78e4a4d-72a6-4045-b681-82c576114cc4"
      },
      "source": [
        "df.count()"
      ],
      "execution_count": 7,
      "outputs": [
        {
          "output_type": "execute_result",
          "data": {
            "text/plain": [
              "6908554"
            ]
          },
          "metadata": {},
          "execution_count": 7
        }
      ]
    },
    {
      "cell_type": "markdown",
      "metadata": {
        "id": "2yUSe55VY-9t"
      },
      "source": [
        "### Create DataFrames to match tables"
      ]
    },
    {
      "cell_type": "code",
      "metadata": {
        "id": "C8REmY1aY-9u"
      },
      "source": [
        "from pyspark.sql.functions import to_date\n",
        "# Read in the Review dataset as a DataFrame\n"
      ],
      "execution_count": 8,
      "outputs": []
    },
    {
      "cell_type": "code",
      "metadata": {
        "id": "B0TESUDRY-90"
      },
      "source": [
        "# Create the customers_table DataFrame\n",
        "customers_df = df[['customer_id']].groupBy(['customer_id']).agg({'customer_id':'count'}).withColumnRenamed(\"count(customer_id)\", \"customer_count\")\n",
        "\n",
        "# .groupby(\"customer_id\").agg({\"count\"})\n",
        "# .withColumnRenamed(\"star_rating\", \"customer_count\")"
      ],
      "execution_count": 25,
      "outputs": []
    },
    {
      "cell_type": "code",
      "metadata": {
        "colab": {
          "base_uri": "https://localhost:8080/"
        },
        "id": "5NyZtfnM-C3Q",
        "outputId": "abfd2fa4-794f-47f3-d996-f01fc4196019"
      },
      "source": [
        "customers_df.show()"
      ],
      "execution_count": 26,
      "outputs": [
        {
          "output_type": "stream",
          "name": "stdout",
          "text": [
            "+-----------+--------------+\n",
            "|customer_id|customer_count|\n",
            "+-----------+--------------+\n",
            "|   42560427|            11|\n",
            "|   14991350|             6|\n",
            "|    9002099|             1|\n",
            "|   35535911|             3|\n",
            "|    1117644|             1|\n",
            "|   46909180|             2|\n",
            "|   48670265|             2|\n",
            "|   43626894|             2|\n",
            "|   17083191|             1|\n",
            "|   20808998|             1|\n",
            "|   36728141|             8|\n",
            "|   16306618|             3|\n",
            "|   13910751|             1|\n",
            "|   27377384|             1|\n",
            "|   19005540|             1|\n",
            "|   51804200|             1|\n",
            "|   47108763|             6|\n",
            "|   51451778|             2|\n",
            "|   44998024|             2|\n",
            "|   32753385|             1|\n",
            "+-----------+--------------+\n",
            "only showing top 20 rows\n",
            "\n"
          ]
        }
      ]
    },
    {
      "cell_type": "code",
      "metadata": {
        "colab": {
          "base_uri": "https://localhost:8080/"
        },
        "id": "6FKy70LSAi-5",
        "outputId": "10b3b986-116d-4a2b-9846-90487f028d89"
      },
      "source": [
        "customers_df.count()"
      ],
      "execution_count": 30,
      "outputs": [
        {
          "output_type": "execute_result",
          "data": {
            "text/plain": [
              "4056329"
            ]
          },
          "metadata": {},
          "execution_count": 30
        }
      ]
    },
    {
      "cell_type": "code",
      "metadata": {
        "id": "4FwXA6UvY-96"
      },
      "source": [
        "# Create the products_table DataFrame and drop duplicates. \n",
        "products_df = df.select(['product_id','product_title']).drop_duplicates(subset=['product_id'])"
      ],
      "execution_count": 41,
      "outputs": []
    },
    {
      "cell_type": "code",
      "metadata": {
        "colab": {
          "base_uri": "https://localhost:8080/"
        },
        "id": "T0ops25OAHGk",
        "outputId": "9b0d6d74-d749-4862-bc69-0bf5edfdb25d"
      },
      "source": [
        "products_df.show()"
      ],
      "execution_count": 42,
      "outputs": [
        {
          "output_type": "stream",
          "name": "stdout",
          "text": [
            "+----------+--------------------+\n",
            "|product_id|       product_title|\n",
            "+----------+--------------------+\n",
            "|016642966X|Wholesale-Accesso...|\n",
            "|0267509650|Star Wars Darth V...|\n",
            "|0321732960|Kelby Training DV...|\n",
            "|0321735722|Kelby Training DV...|\n",
            "|0373770561|Delicious (The Bu...|\n",
            "|0439651859|TEACHERS FRIEND N...|\n",
            "|0594015421|Adjustable Readin...|\n",
            "|0594287995|Kate Spade Rain o...|\n",
            "|0594450268|Nook Hd + 9-Inch ...|\n",
            "|0594481813|Barnes & Noble OV...|\n",
            "|0594482097|NOOK HD 7 inch Pr...|\n",
            "|059454582X|Groovy Stand in C...|\n",
            "|0594549566|Barnes & Noble Jo...|\n",
            "|0594643058|Desktop Dock for ...|\n",
            "|0743287231|The Jesus Dynasty...|\n",
            "|0749568275|AA- 2012 Road Atl...|\n",
            "|0777700018|65W/90W DC Car Ch...|\n",
            "|0783428006|Geochron World Watch|\n",
            "|0805063897|Nickel and Dimed:...|\n",
            "|0970409117|GEI WIDE FORMAT G...|\n",
            "+----------+--------------------+\n",
            "only showing top 20 rows\n",
            "\n"
          ]
        }
      ]
    },
    {
      "cell_type": "code",
      "metadata": {
        "colab": {
          "base_uri": "https://localhost:8080/"
        },
        "id": "RhLF8FVRAZEN",
        "outputId": "25622400-d684-4a6e-83d1-a58d77103c96"
      },
      "source": [
        "products_df.count()"
      ],
      "execution_count": 43,
      "outputs": [
        {
          "output_type": "execute_result",
          "data": {
            "text/plain": [
              "441964"
            ]
          },
          "metadata": {},
          "execution_count": 43
        }
      ]
    },
    {
      "cell_type": "code",
      "metadata": {
        "id": "MkqyCuNQY-9-"
      },
      "source": [
        "# Create the review_id_table DataFrame. \n",
        "# Convert the 'review_date' column to a date datatype with to_date(\"review_date\", 'yyyy-MM-dd').alias(\"review_date\")\n",
        "review_id_df = df.select([\"review_id\",\"customer_id\",\"product_id\",\"product_parent\", to_date(\"review_date\", 'yyyy-MM-dd').alias(\"review_date\")])"
      ],
      "execution_count": 31,
      "outputs": []
    },
    {
      "cell_type": "code",
      "metadata": {
        "colab": {
          "base_uri": "https://localhost:8080/"
        },
        "id": "RFPJHc7ABLzl",
        "outputId": "c7d41bb3-4c6e-43e4-cc5e-a16823ec3f98"
      },
      "source": [
        "review_id_df.show()"
      ],
      "execution_count": 32,
      "outputs": [
        {
          "output_type": "stream",
          "name": "stdout",
          "text": [
            "+--------------+-----------+----------+--------------+-----------+\n",
            "|     review_id|customer_id|product_id|product_parent|review_date|\n",
            "+--------------+-----------+----------+--------------+-----------+\n",
            "|R3ARRMDEGED8RD|   22873041|B00KJWQIIC|     335625766| 2015-08-31|\n",
            "| RQ28TSA020Y6J|   30088427|B013ALA9LA|     671157305| 2015-08-31|\n",
            "| RUXJRZCT6953M|   20329786|B00PML2GQ8|     982036237| 2015-08-31|\n",
            "| R7EO0UO6BPB71|   14215710|B001NS0OZ4|     576587596| 2015-08-31|\n",
            "|R39NJY2YJ1JFSV|   38264512|B00AQMTND2|     964759214| 2015-08-31|\n",
            "|R31SR7REWNX7CF|   30548466|B00KX4TORI|     170101802| 2015-08-31|\n",
            "| RVBP8I1R0CTZ8|     589298|B00P17WEMY|     206124740| 2015-08-31|\n",
            "|R1QF6RS1PDLU18|   49329488|B00TR05L9Y|     778403103| 2015-08-31|\n",
            "|R23AICGEDAJQL1|   50728290|B0098Y77OG|     177098042| 2015-08-31|\n",
            "|R2EY3N4K9W19UP|   37802374|B00IFYEYXC|     602496520| 2015-08-31|\n",
            "| RC9AW4HKJ016M|   52027882|B0091ITP0S|     977217357| 2015-08-31|\n",
            "|R2ALWJE9N6ZBXD|   41770239|B008I21EA2|     295632907| 2015-08-31|\n",
            "|R2G5FPA4OX37GV|   42560427|B00MRB7SBO|     922591915| 2015-08-31|\n",
            "|R1IKTSEVXSIMOD|   46345923|B00LLER2CS|     997551273| 2015-08-31|\n",
            "|R2YA6G6SRFEWF6|   41751192|B00B0CQCCC|     937999925| 2015-08-31|\n",
            "| RS9H1N9I3Z1IA|   21176481|B00GU8W5AE|      13865167| 2015-08-31|\n",
            "| RKKLBI76VTDNT|   10674058|B00XHMXJQ0|     967483469| 2015-08-31|\n",
            "|R2NJ3WFUS4E5G6|   43341796|B00YGJJQ6U|     986548413| 2015-08-31|\n",
            "|R21PTQNLGCBN0I|   13232866|B00XMN20Y6|     873354048| 2015-08-31|\n",
            "|R3G4RT3EQ9RSY7|   29333557|B00MA40W9I|     535866197| 2015-08-31|\n",
            "+--------------+-----------+----------+--------------+-----------+\n",
            "only showing top 20 rows\n",
            "\n"
          ]
        }
      ]
    },
    {
      "cell_type": "code",
      "metadata": {
        "colab": {
          "base_uri": "https://localhost:8080/"
        },
        "id": "ftG85xrkBQ3w",
        "outputId": "4a640277-b2f8-41f1-ec0b-035a82fd9d07"
      },
      "source": [
        "review_id_df.count()"
      ],
      "execution_count": 33,
      "outputs": [
        {
          "output_type": "execute_result",
          "data": {
            "text/plain": [
              "6908554"
            ]
          },
          "metadata": {},
          "execution_count": 33
        }
      ]
    },
    {
      "cell_type": "code",
      "metadata": {
        "id": "lzMmkdKmY--D"
      },
      "source": [
        "# Create the vine_table. DataFrame\n",
        "vine_df = df.select(['review_id','star_rating','helpful_votes','total_votes','vine','verified_purchase'])"
      ],
      "execution_count": 34,
      "outputs": []
    },
    {
      "cell_type": "code",
      "metadata": {
        "colab": {
          "base_uri": "https://localhost:8080/"
        },
        "id": "zcouVSolB16M",
        "outputId": "d942ba50-f60b-4aa6-bd5f-6dc91e021214"
      },
      "source": [
        "vine_df.show()"
      ],
      "execution_count": 35,
      "outputs": [
        {
          "output_type": "stream",
          "name": "stdout",
          "text": [
            "+--------------+-----------+-------------+-----------+----+-----------------+\n",
            "|     review_id|star_rating|helpful_votes|total_votes|vine|verified_purchase|\n",
            "+--------------+-----------+-------------+-----------+----+-----------------+\n",
            "|R3ARRMDEGED8RD|          5|            0|          0|   N|                Y|\n",
            "| RQ28TSA020Y6J|          5|           24|         31|   N|                N|\n",
            "| RUXJRZCT6953M|          1|            2|          2|   N|                N|\n",
            "| R7EO0UO6BPB71|          1|            0|          0|   N|                Y|\n",
            "|R39NJY2YJ1JFSV|          5|            0|          0|   N|                Y|\n",
            "|R31SR7REWNX7CF|          5|            0|          0|   N|                Y|\n",
            "| RVBP8I1R0CTZ8|          3|            1|          2|   N|                Y|\n",
            "|R1QF6RS1PDLU18|          4|            1|          1|   N|                Y|\n",
            "|R23AICGEDAJQL1|          1|            0|          0|   N|                Y|\n",
            "|R2EY3N4K9W19UP|          5|            3|          4|   N|                Y|\n",
            "| RC9AW4HKJ016M|          1|            0|          0|   N|                Y|\n",
            "|R2ALWJE9N6ZBXD|          1|            0|          0|   N|                N|\n",
            "|R2G5FPA4OX37GV|          5|            1|          1|   N|                Y|\n",
            "|R1IKTSEVXSIMOD|          5|            0|          0|   N|                Y|\n",
            "|R2YA6G6SRFEWF6|          1|            0|          1|   N|                Y|\n",
            "| RS9H1N9I3Z1IA|          5|            0|          0|   N|                Y|\n",
            "| RKKLBI76VTDNT|          1|            0|          0|   N|                Y|\n",
            "|R2NJ3WFUS4E5G6|          4|            0|          0|   N|                Y|\n",
            "|R21PTQNLGCBN0I|          5|            0|          0|   N|                Y|\n",
            "|R3G4RT3EQ9RSY7|          1|            0|          0|   N|                Y|\n",
            "+--------------+-----------+-------------+-----------+----+-----------------+\n",
            "only showing top 20 rows\n",
            "\n"
          ]
        }
      ]
    },
    {
      "cell_type": "code",
      "metadata": {
        "colab": {
          "base_uri": "https://localhost:8080/"
        },
        "id": "wC5Q2JP1B2ju",
        "outputId": "9a74f817-ce93-4b28-82bd-798d178818e1"
      },
      "source": [
        "vine_df.count()"
      ],
      "execution_count": 36,
      "outputs": [
        {
          "output_type": "execute_result",
          "data": {
            "text/plain": [
              "6908554"
            ]
          },
          "metadata": {},
          "execution_count": 36
        }
      ]
    },
    {
      "cell_type": "markdown",
      "metadata": {
        "id": "jITZhLkmY--J"
      },
      "source": [
        "### Connect to the AWS RDS instance and write each DataFrame to its table. "
      ]
    },
    {
      "cell_type": "code",
      "metadata": {
        "id": "7jiUvs1aY--L",
        "colab": {
          "base_uri": "https://localhost:8080/"
        },
        "outputId": "c3738120-885d-4d80-c2a8-1980280cc0e4"
      },
      "source": [
        "# Store environmental variable\n",
        "from getpass import getpass\n",
        "\n",
        "connectionString = getpass('Enter connection string')\n",
        "\n",
        "password = getpass('Enter database password')\n",
        "\n",
        "\n",
        "# Configure settings for RDS\n",
        "mode = \"append\"\n",
        "jdbc_url=\"jdbc:postgresql://\" + connectionString + \":5432/amz_reviews\"\n",
        "config = {\"user\":\"postgres\", \n",
        "          \"password\": password, \n",
        "          \"driver\":\"org.postgresql.Driver\"}"
      ],
      "execution_count": 38,
      "outputs": [
        {
          "name": "stdout",
          "output_type": "stream",
          "text": [
            "Enter connection string··········\n",
            "Enter database password··········\n"
          ]
        }
      ]
    },
    {
      "cell_type": "code",
      "metadata": {
        "id": "T2zgZ-aKY--Q"
      },
      "source": [
        "# Write review_id_df to table in RDS\n",
        "review_id_df.write.jdbc(url=jdbc_url, table='review_id_table', mode=mode, properties=config)"
      ],
      "execution_count": 39,
      "outputs": []
    },
    {
      "cell_type": "code",
      "metadata": {
        "id": "1m3yzn-LY--U"
      },
      "source": [
        "# Write products_df to table in RDS\n",
        "products_df.write.jdbc(url=jdbc_url, table='products_table', mode=mode, properties=config)"
      ],
      "execution_count": 44,
      "outputs": []
    },
    {
      "cell_type": "code",
      "metadata": {
        "id": "KbXri15fY--Z"
      },
      "source": [
        "# Write customers_df to table in RDS\n",
        "customers_df.write.jdbc(url=jdbc_url, table='customers_table', mode=mode, properties=config)"
      ],
      "execution_count": 45,
      "outputs": []
    },
    {
      "cell_type": "code",
      "metadata": {
        "id": "XdQknSHLY--e"
      },
      "source": [
        "# Write vine_df to table in RDS\n",
        "vine_df.write.jdbc(url=jdbc_url, table='vine_table', mode=mode, properties=config)"
      ],
      "execution_count": 46,
      "outputs": []
    }
  ]
}