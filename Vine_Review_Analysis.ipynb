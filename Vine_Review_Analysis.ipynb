{
  "nbformat": 4,
  "nbformat_minor": 0,
  "metadata": {
    "colab": {
      "name": "Vine_Review_Analysis.ipynb",
      "provenance": [],
      "collapsed_sections": [
        "WYTpzOm13wAB"
      ]
    },
    "kernelspec": {
      "name": "python3",
      "display_name": "Python 3"
    },
    "nteract": {
      "version": "0.12.3"
    },
    "language_info": {
      "name": "python"
    }
  },
  "cells": [
    {
      "cell_type": "markdown",
      "metadata": {
        "id": "Pu3fcY4j3mSM"
      },
      "source": [
        "# Install Spark"
      ]
    },
    {
      "cell_type": "code",
      "metadata": {
        "id": "V58rxea0HqSa",
        "colab": {
          "base_uri": "https://localhost:8080/"
        },
        "outputId": "03ec2951-3f5c-42cd-9468-bbef47f70f77"
      },
      "source": [
        "import os\n",
        "# Find the latest version of spark 3.0  from http://www.apache.org/dist/spark/ and enter as the spark version\n",
        "# For example:\n",
        "# spark_version = 'spark-3.0.3'\n",
        "spark_version = 'spark-3.2.0'\n",
        "os.environ['SPARK_VERSION']=spark_version\n",
        "\n",
        "# Install Spark and Java\n",
        "!apt-get update\n",
        "!apt-get install openjdk-11-jdk-headless -qq > /dev/null\n",
        "!wget -q http://www.apache.org/dist/spark/$SPARK_VERSION/$SPARK_VERSION-bin-hadoop2.7.tgz\n",
        "!tar xf $SPARK_VERSION-bin-hadoop2.7.tgz\n",
        "!pip install -q findspark\n",
        "\n",
        "# Set Environment Variables\n",
        "import os\n",
        "os.environ[\"JAVA_HOME\"] = \"/usr/lib/jvm/java-11-openjdk-amd64\"\n",
        "os.environ[\"SPARK_HOME\"] = f\"/content/{spark_version}-bin-hadoop2.7\"\n",
        "\n",
        "# Start a SparkSession\n",
        "import findspark\n",
        "findspark.init()"
      ],
      "execution_count": 1,
      "outputs": [
        {
          "output_type": "stream",
          "name": "stdout",
          "text": [
            "Get:1 https://cloud.r-project.org/bin/linux/ubuntu bionic-cran40/ InRelease [3,626 B]\n",
            "Ign:2 https://developer.download.nvidia.com/compute/cuda/repos/ubuntu1804/x86_64  InRelease\n",
            "Get:3 http://security.ubuntu.com/ubuntu bionic-security InRelease [88.7 kB]\n",
            "Ign:4 https://developer.download.nvidia.com/compute/machine-learning/repos/ubuntu1804/x86_64  InRelease\n",
            "Hit:5 https://developer.download.nvidia.com/compute/cuda/repos/ubuntu1804/x86_64  Release\n",
            "Hit:6 https://developer.download.nvidia.com/compute/machine-learning/repos/ubuntu1804/x86_64  Release\n",
            "Hit:7 http://ppa.launchpad.net/c2d4u.team/c2d4u4.0+/ubuntu bionic InRelease\n",
            "Get:8 https://cloud.r-project.org/bin/linux/ubuntu bionic-cran40/ Packages [69.5 kB]\n",
            "Hit:9 http://archive.ubuntu.com/ubuntu bionic InRelease\n",
            "Get:10 http://archive.ubuntu.com/ubuntu bionic-updates InRelease [88.7 kB]\n",
            "Hit:12 http://ppa.launchpad.net/cran/libgit2/ubuntu bionic InRelease\n",
            "Hit:14 http://ppa.launchpad.net/deadsnakes/ppa/ubuntu bionic InRelease\n",
            "Get:15 http://archive.ubuntu.com/ubuntu bionic-backports InRelease [74.6 kB]\n",
            "Hit:16 http://ppa.launchpad.net/graphics-drivers/ppa/ubuntu bionic InRelease\n",
            "Get:17 http://security.ubuntu.com/ubuntu bionic-security/restricted amd64 Packages [607 kB]\n",
            "Get:18 http://archive.ubuntu.com/ubuntu bionic-updates/main amd64 Packages [2,803 kB]\n",
            "Get:19 http://security.ubuntu.com/ubuntu bionic-security/universe amd64 Packages [1,431 kB]\n",
            "Get:20 http://security.ubuntu.com/ubuntu bionic-security/main amd64 Packages [2,367 kB]\n",
            "Get:21 http://archive.ubuntu.com/ubuntu bionic-updates/restricted amd64 Packages [640 kB]\n",
            "Get:22 http://archive.ubuntu.com/ubuntu bionic-updates/universe amd64 Packages [2,210 kB]\n",
            "Fetched 10.4 MB in 5s (2,282 kB/s)\n",
            "Reading package lists... Done\n"
          ]
        }
      ]
    },
    {
      "cell_type": "markdown",
      "metadata": {
        "id": "vgrZINWY30tj"
      },
      "source": [
        "# Start a SparkSession with postgreSQL driver"
      ]
    },
    {
      "cell_type": "code",
      "metadata": {
        "id": "MMqDAjVS0KN9"
      },
      "source": [
        "from pyspark.sql import SparkSession\n",
        "spark = SparkSession.builder.appName(\"M16-Vine_Review\").getOrCreate()"
      ],
      "execution_count": 2,
      "outputs": []
    },
    {
      "cell_type": "markdown",
      "metadata": {
        "id": "CBl419Ht38uk"
      },
      "source": [
        "# Extract"
      ]
    },
    {
      "cell_type": "markdown",
      "metadata": {
        "id": "cyBsySGuY-9V"
      },
      "source": [
        "### Load Amazon Data into Spark DataFrame"
      ]
    },
    {
      "cell_type": "code",
      "metadata": {
        "id": "6GWucHd94DkQ"
      },
      "source": [
        "from pyspark import SparkFiles"
      ],
      "execution_count": 3,
      "outputs": []
    },
    {
      "cell_type": "code",
      "metadata": {
        "id": "CtCmBhQJY-9Z"
      },
      "source": [
        "url = \"https://s3.amazonaws.com/amazon-reviews-pds/tsv/amazon_reviews_us_PC_v1_00.tsv.gz\"\n",
        "spark.sparkContext.addFile(url)\n",
        "df = spark.read.option(\"encoding\", \"UTF-8\").csv(SparkFiles.get(\"\"), sep=\"\\t\", header=True, inferSchema=True)"
      ],
      "execution_count": 4,
      "outputs": []
    },
    {
      "cell_type": "code",
      "metadata": {
        "colab": {
          "base_uri": "https://localhost:8080/"
        },
        "id": "jVlg8Gtt4d1R",
        "outputId": "136a5ab3-ebf3-4491-b406-edd393708ab8"
      },
      "source": [
        "df.show()"
      ],
      "execution_count": 5,
      "outputs": [
        {
          "output_type": "stream",
          "name": "stdout",
          "text": [
            "+-----------+-----------+--------------+----------+--------------+--------------------+----------------+-----------+-------------+-----------+----+-----------------+--------------------+--------------------+-----------+\n",
            "|marketplace|customer_id|     review_id|product_id|product_parent|       product_title|product_category|star_rating|helpful_votes|total_votes|vine|verified_purchase|     review_headline|         review_body|review_date|\n",
            "+-----------+-----------+--------------+----------+--------------+--------------------+----------------+-----------+-------------+-----------+----+-----------------+--------------------+--------------------+-----------+\n",
            "|         US|   22873041|R3ARRMDEGED8RD|B00KJWQIIC|     335625766|Plemo 14-Inch Lap...|              PC|          5|            0|          0|   N|                Y|Pleasantly surprised|I was very surpri...| 2015-08-31|\n",
            "|         US|   30088427| RQ28TSA020Y6J|B013ALA9LA|     671157305|TP-Link OnHub AC1...|              PC|          5|           24|         31|   N|                N|OnHub is a pretty...|I am a Google emp...| 2015-08-31|\n",
            "|         US|   20329786| RUXJRZCT6953M|B00PML2GQ8|     982036237|AmazonBasics USB ...|              PC|          1|            2|          2|   N|                N|None of them work...|Bought cables in ...| 2015-08-31|\n",
            "|         US|   14215710| R7EO0UO6BPB71|B001NS0OZ4|     576587596|Transcend P8 15-i...|              PC|          1|            0|          0|   N|                Y|just keep searching.|nope, cheap and slow| 2015-08-31|\n",
            "|         US|   38264512|R39NJY2YJ1JFSV|B00AQMTND2|     964759214|Aleratec SATA Dat...|              PC|          5|            0|          0|   N|                Y|          Five Stars|Excellent! Great ...| 2015-08-31|\n",
            "|         US|   30548466|R31SR7REWNX7CF|B00KX4TORI|     170101802|Kingston Digital ...|              PC|          5|            0|          0|   N|                Y|Good quality, wor...|Good quality,work...| 2015-08-31|\n",
            "|         US|     589298| RVBP8I1R0CTZ8|B00P17WEMY|     206124740|White 9 Inch Unlo...|              PC|          3|            1|          2|   N|                Y|in fact this is t...|This demn tablet ...| 2015-08-31|\n",
            "|         US|   49329488|R1QF6RS1PDLU18|B00TR05L9Y|     778403103|Lenovo TAB2 A10 -...|              PC|          4|            1|          1|   N|                Y|                Good|I am not sure I d...| 2015-08-31|\n",
            "|         US|   50728290|R23AICGEDAJQL1|B0098Y77OG|     177098042|                Acer|              PC|          1|            0|          0|   N|                Y|You get what you ...|After exactly 45 ...| 2015-08-31|\n",
            "|         US|   37802374|R2EY3N4K9W19UP|B00IFYEYXC|     602496520|AzureWave Broadco...|              PC|          5|            3|          4|   N|                Y|Great for Windows...|Replaced my Intel...| 2015-08-31|\n",
            "|         US|   52027882| RC9AW4HKJ016M|B0091ITP0S|     977217357|HDE Rotating iPad...|              PC|          1|            0|          0|   N|                Y|            One Star|IT HAS ALREADY CR...| 2015-08-31|\n",
            "|         US|   41770239|R2ALWJE9N6ZBXD|B008I21EA2|     295632907|Linksys AC1750 Wi...|              PC|          1|            0|          0|   N|                N|   Very Disappointed|Very disappointed...| 2015-08-31|\n",
            "|         US|   42560427|R2G5FPA4OX37GV|B00MRB7SBO|     922591915|iPad Pro 9.7, iPa...|              PC|          5|            1|          1|   N|                Y|          Five Stars|Works well. I use...| 2015-08-31|\n",
            "|         US|   46345923|R1IKTSEVXSIMOD|B00LLER2CS|     997551273|SanDisk 16GB CZ43...|              PC|          5|            0|          0|   N|                Y|The encryption so...|The encryption so...| 2015-08-31|\n",
            "|         US|   41751192|R2YA6G6SRFEWF6|B00B0CQCCC|     937999925|TRENDnet Wireless...|              PC|          1|            0|          1|   N|                Y|Didn't last 2 years.|I have owned this...| 2015-08-31|\n",
            "|         US|   21176481| RS9H1N9I3Z1IA|B00GU8W5AE|      13865167|Redragon M901 PER...|              PC|          5|            0|          0|   N|                Y|Awesome gaming mouse|My first gaming m...| 2015-08-31|\n",
            "|         US|   10674058| RKKLBI76VTDNT|B00XHMXJQ0|     967483469|Mudder MHL Adapte...|              PC|          1|            0|          0|   N|                Y|            One Star|I cannot get it t...| 2015-08-31|\n",
            "|         US|   43341796|R2NJ3WFUS4E5G6|B00YGJJQ6U|     986548413|Fintie iPad Air 2...|              PC|          4|            0|          0|   N|                Y|Great choices of ...|Love that Finite ...| 2015-08-31|\n",
            "|         US|   13232866|R21PTQNLGCBN0I|B00XMN20Y6|     873354048|Fintie iPad 2/3/4...|              PC|          5|            0|          0|   N|                Y|          Five Stars|Nice color, I lov...| 2015-08-31|\n",
            "|         US|   29333557|R3G4RT3EQ9RSY7|B00MA40W9I|     535866197|Egoway® New Lapto...|              PC|          1|            0|          0|   N|                Y|Totally wasted $6...|Totally wasted $6...| 2015-08-31|\n",
            "+-----------+-----------+--------------+----------+--------------+--------------------+----------------+-----------+-------------+-----------+----+-----------------+--------------------+--------------------+-----------+\n",
            "only showing top 20 rows\n",
            "\n"
          ]
        }
      ]
    },
    {
      "cell_type": "code",
      "metadata": {
        "colab": {
          "base_uri": "https://localhost:8080/"
        },
        "id": "tHqhAYGE5DSH",
        "outputId": "c2fd75ae-0db7-409e-e2b5-bc73ad0a3b00"
      },
      "source": [
        "df.count()"
      ],
      "execution_count": 6,
      "outputs": [
        {
          "output_type": "execute_result",
          "data": {
            "text/plain": [
              "6908554"
            ]
          },
          "metadata": {},
          "execution_count": 6
        }
      ]
    },
    {
      "cell_type": "markdown",
      "metadata": {
        "id": "2yUSe55VY-9t"
      },
      "source": [
        "### Create Vine DataFrame"
      ]
    },
    {
      "cell_type": "code",
      "metadata": {
        "id": "lzMmkdKmY--D"
      },
      "source": [
        "# Create the vine_table. DataFrame\n",
        "vine_df = df.select(['review_id','star_rating','helpful_votes','total_votes','vine','verified_purchase'])"
      ],
      "execution_count": 7,
      "outputs": []
    },
    {
      "cell_type": "code",
      "metadata": {
        "colab": {
          "base_uri": "https://localhost:8080/"
        },
        "id": "zcouVSolB16M",
        "outputId": "54f26cb7-4813-491a-9b5e-ef305a98a927"
      },
      "source": [
        "vine_df.show()"
      ],
      "execution_count": 8,
      "outputs": [
        {
          "output_type": "stream",
          "name": "stdout",
          "text": [
            "+--------------+-----------+-------------+-----------+----+-----------------+\n",
            "|     review_id|star_rating|helpful_votes|total_votes|vine|verified_purchase|\n",
            "+--------------+-----------+-------------+-----------+----+-----------------+\n",
            "|R3ARRMDEGED8RD|          5|            0|          0|   N|                Y|\n",
            "| RQ28TSA020Y6J|          5|           24|         31|   N|                N|\n",
            "| RUXJRZCT6953M|          1|            2|          2|   N|                N|\n",
            "| R7EO0UO6BPB71|          1|            0|          0|   N|                Y|\n",
            "|R39NJY2YJ1JFSV|          5|            0|          0|   N|                Y|\n",
            "|R31SR7REWNX7CF|          5|            0|          0|   N|                Y|\n",
            "| RVBP8I1R0CTZ8|          3|            1|          2|   N|                Y|\n",
            "|R1QF6RS1PDLU18|          4|            1|          1|   N|                Y|\n",
            "|R23AICGEDAJQL1|          1|            0|          0|   N|                Y|\n",
            "|R2EY3N4K9W19UP|          5|            3|          4|   N|                Y|\n",
            "| RC9AW4HKJ016M|          1|            0|          0|   N|                Y|\n",
            "|R2ALWJE9N6ZBXD|          1|            0|          0|   N|                N|\n",
            "|R2G5FPA4OX37GV|          5|            1|          1|   N|                Y|\n",
            "|R1IKTSEVXSIMOD|          5|            0|          0|   N|                Y|\n",
            "|R2YA6G6SRFEWF6|          1|            0|          1|   N|                Y|\n",
            "| RS9H1N9I3Z1IA|          5|            0|          0|   N|                Y|\n",
            "| RKKLBI76VTDNT|          1|            0|          0|   N|                Y|\n",
            "|R2NJ3WFUS4E5G6|          4|            0|          0|   N|                Y|\n",
            "|R21PTQNLGCBN0I|          5|            0|          0|   N|                Y|\n",
            "|R3G4RT3EQ9RSY7|          1|            0|          0|   N|                Y|\n",
            "+--------------+-----------+-------------+-----------+----+-----------------+\n",
            "only showing top 20 rows\n",
            "\n"
          ]
        }
      ]
    },
    {
      "cell_type": "code",
      "metadata": {
        "colab": {
          "base_uri": "https://localhost:8080/"
        },
        "id": "wC5Q2JP1B2ju",
        "outputId": "3d2e8772-4dfb-4f7e-9ba0-3720638f521a"
      },
      "source": [
        "vine_df.count()"
      ],
      "execution_count": 9,
      "outputs": [
        {
          "output_type": "execute_result",
          "data": {
            "text/plain": [
              "6908554"
            ]
          },
          "metadata": {},
          "execution_count": 9
        }
      ]
    },
    {
      "cell_type": "markdown",
      "metadata": {
        "id": "GnA5D2eHPgis"
      },
      "source": [
        "# Deliverable 2"
      ]
    },
    {
      "cell_type": "markdown",
      "metadata": {
        "id": "EaxDwHJDPnpq"
      },
      "source": [
        "## Reviews with total_votes >= 20"
      ]
    },
    {
      "cell_type": "code",
      "metadata": {
        "id": "Exuo6ebUsCqW"
      },
      "source": [
        "# Filter total_votes>=20\n",
        "df_vine_20_total_votes = vine_df.filter(\"total_votes>=20\")"
      ],
      "execution_count": 10,
      "outputs": []
    },
    {
      "cell_type": "code",
      "metadata": {
        "colab": {
          "base_uri": "https://localhost:8080/"
        },
        "id": "YP993PlzUiEk",
        "outputId": "e8cd2e94-05fd-47fa-fa94-8d2b23c6bce2"
      },
      "source": [
        "df_vine_20_total_votes.show()"
      ],
      "execution_count": 11,
      "outputs": [
        {
          "output_type": "stream",
          "name": "stdout",
          "text": [
            "+--------------+-----------+-------------+-----------+----+-----------------+\n",
            "|     review_id|star_rating|helpful_votes|total_votes|vine|verified_purchase|\n",
            "+--------------+-----------+-------------+-----------+----+-----------------+\n",
            "| RQ28TSA020Y6J|          5|           24|         31|   N|                N|\n",
            "|R25D83AEJRXUWO|          4|           18|         21|   N|                Y|\n",
            "|R35OW0SJPJWAHO|          1|           12|        162|   N|                Y|\n",
            "| RAP2ETU511BOI|          1|            5|         99|   N|                Y|\n",
            "|R1S9O5CCTD61ZD|          1|           45|         71|   N|                N|\n",
            "|R1RMOCWMV8F4VH|          1|            5|         21|   N|                Y|\n",
            "|R351KVE3VO78W9|          3|           36|         42|   N|                Y|\n",
            "| R4LANIHO6EXAH|          4|           35|         35|   N|                Y|\n",
            "|R3V26MZUOWAUA4|          3|           35|         45|   N|                Y|\n",
            "|R38OLNY5GR1PW6|          5|           44|         44|   N|                Y|\n",
            "|R2GK7RJNIAREIT|          1|           30|         32|   N|                Y|\n",
            "|R2OWRP6FXXECMK|          1|           42|         44|   N|                Y|\n",
            "|R260E9JPZZZ01Q|          2|           10|         27|   N|                N|\n",
            "| ROR2FE6Y8EZYG|          5|           19|         22|   N|                Y|\n",
            "|R3LXTGRG4QSBR6|          2|            0|         20|   N|                Y|\n",
            "|R1UWNRDWUZR68D|          3|           60|         60|   N|                Y|\n",
            "| RIJYX8PG45XOB|          5|           51|         52|   N|                Y|\n",
            "|R2WPARQ94X1HCG|          1|            0|         22|   N|                Y|\n",
            "|R24PUIWP0XB411|          1|           27|         27|   N|                Y|\n",
            "| RBYFK3W84LW9F|          2|           32|         37|   N|                Y|\n",
            "+--------------+-----------+-------------+-----------+----+-----------------+\n",
            "only showing top 20 rows\n",
            "\n"
          ]
        }
      ]
    },
    {
      "cell_type": "code",
      "metadata": {
        "colab": {
          "base_uri": "https://localhost:8080/"
        },
        "id": "wQGnHvrFUkz3",
        "outputId": "34a14b1a-731c-40a2-a33a-3fe859d72ba7"
      },
      "source": [
        "df_vine_20_total_votes.count()"
      ],
      "execution_count": 12,
      "outputs": [
        {
          "output_type": "execute_result",
          "data": {
            "text/plain": [
              "96163"
            ]
          },
          "metadata": {},
          "execution_count": 12
        }
      ]
    },
    {
      "cell_type": "markdown",
      "metadata": {
        "id": "25BZk7S3f3p7"
      },
      "source": [
        "## Helpful over total votes ratio"
      ]
    },
    {
      "cell_type": "code",
      "metadata": {
        "id": "r2EfNrgBWw5K"
      },
      "source": [
        "df_vine_20_total_votes=df_vine_20_total_votes.withColumn('helpful_over_total_votes',df_vine_20_total_votes['helpful_votes']/df_vine_20_total_votes['total_votes'])"
      ],
      "execution_count": 13,
      "outputs": []
    },
    {
      "cell_type": "code",
      "metadata": {
        "colab": {
          "base_uri": "https://localhost:8080/"
        },
        "id": "cWAjUcmKXLKS",
        "outputId": "c60306d6-4966-45ed-86d6-7b84f6fa59af"
      },
      "source": [
        "df_vine_20_total_votes.show()"
      ],
      "execution_count": 14,
      "outputs": [
        {
          "output_type": "stream",
          "name": "stdout",
          "text": [
            "+--------------+-----------+-------------+-----------+----+-----------------+------------------------+\n",
            "|     review_id|star_rating|helpful_votes|total_votes|vine|verified_purchase|helpful_over_total_votes|\n",
            "+--------------+-----------+-------------+-----------+----+-----------------+------------------------+\n",
            "| RQ28TSA020Y6J|          5|           24|         31|   N|                N|      0.7741935483870968|\n",
            "|R25D83AEJRXUWO|          4|           18|         21|   N|                Y|      0.8571428571428571|\n",
            "|R35OW0SJPJWAHO|          1|           12|        162|   N|                Y|     0.07407407407407407|\n",
            "| RAP2ETU511BOI|          1|            5|         99|   N|                Y|    0.050505050505050504|\n",
            "|R1S9O5CCTD61ZD|          1|           45|         71|   N|                N|      0.6338028169014085|\n",
            "|R1RMOCWMV8F4VH|          1|            5|         21|   N|                Y|     0.23809523809523808|\n",
            "|R351KVE3VO78W9|          3|           36|         42|   N|                Y|      0.8571428571428571|\n",
            "| R4LANIHO6EXAH|          4|           35|         35|   N|                Y|                     1.0|\n",
            "|R3V26MZUOWAUA4|          3|           35|         45|   N|                Y|      0.7777777777777778|\n",
            "|R38OLNY5GR1PW6|          5|           44|         44|   N|                Y|                     1.0|\n",
            "|R2GK7RJNIAREIT|          1|           30|         32|   N|                Y|                  0.9375|\n",
            "|R2OWRP6FXXECMK|          1|           42|         44|   N|                Y|      0.9545454545454546|\n",
            "|R260E9JPZZZ01Q|          2|           10|         27|   N|                N|     0.37037037037037035|\n",
            "| ROR2FE6Y8EZYG|          5|           19|         22|   N|                Y|      0.8636363636363636|\n",
            "|R3LXTGRG4QSBR6|          2|            0|         20|   N|                Y|                     0.0|\n",
            "|R1UWNRDWUZR68D|          3|           60|         60|   N|                Y|                     1.0|\n",
            "| RIJYX8PG45XOB|          5|           51|         52|   N|                Y|      0.9807692307692307|\n",
            "|R2WPARQ94X1HCG|          1|            0|         22|   N|                Y|                     0.0|\n",
            "|R24PUIWP0XB411|          1|           27|         27|   N|                Y|                     1.0|\n",
            "| RBYFK3W84LW9F|          2|           32|         37|   N|                Y|      0.8648648648648649|\n",
            "+--------------+-----------+-------------+-----------+----+-----------------+------------------------+\n",
            "only showing top 20 rows\n",
            "\n"
          ]
        }
      ]
    },
    {
      "cell_type": "markdown",
      "metadata": {
        "id": "1mminnm2gDbF"
      },
      "source": [
        "## Filter helpful over total votes >= 0.50"
      ]
    },
    {
      "cell_type": "code",
      "metadata": {
        "id": "oxTZPwU4U6lm"
      },
      "source": [
        "df_vine_valued_reviews= df_vine_20_total_votes.filter('helpful_over_total_votes>=0.50')"
      ],
      "execution_count": 15,
      "outputs": []
    },
    {
      "cell_type": "code",
      "metadata": {
        "colab": {
          "base_uri": "https://localhost:8080/"
        },
        "id": "6ci3sRVXV-ML",
        "outputId": "436fce05-7e32-41cc-e5fa-6aa86882f757"
      },
      "source": [
        "df_vine_valued_reviews.show()"
      ],
      "execution_count": 16,
      "outputs": [
        {
          "output_type": "stream",
          "name": "stdout",
          "text": [
            "+--------------+-----------+-------------+-----------+----+-----------------+------------------------+\n",
            "|     review_id|star_rating|helpful_votes|total_votes|vine|verified_purchase|helpful_over_total_votes|\n",
            "+--------------+-----------+-------------+-----------+----+-----------------+------------------------+\n",
            "| RQ28TSA020Y6J|          5|           24|         31|   N|                N|      0.7741935483870968|\n",
            "|R25D83AEJRXUWO|          4|           18|         21|   N|                Y|      0.8571428571428571|\n",
            "|R1S9O5CCTD61ZD|          1|           45|         71|   N|                N|      0.6338028169014085|\n",
            "|R351KVE3VO78W9|          3|           36|         42|   N|                Y|      0.8571428571428571|\n",
            "| R4LANIHO6EXAH|          4|           35|         35|   N|                Y|                     1.0|\n",
            "|R3V26MZUOWAUA4|          3|           35|         45|   N|                Y|      0.7777777777777778|\n",
            "|R38OLNY5GR1PW6|          5|           44|         44|   N|                Y|                     1.0|\n",
            "|R2GK7RJNIAREIT|          1|           30|         32|   N|                Y|                  0.9375|\n",
            "|R2OWRP6FXXECMK|          1|           42|         44|   N|                Y|      0.9545454545454546|\n",
            "| ROR2FE6Y8EZYG|          5|           19|         22|   N|                Y|      0.8636363636363636|\n",
            "|R1UWNRDWUZR68D|          3|           60|         60|   N|                Y|                     1.0|\n",
            "| RIJYX8PG45XOB|          5|           51|         52|   N|                Y|      0.9807692307692307|\n",
            "|R24PUIWP0XB411|          1|           27|         27|   N|                Y|                     1.0|\n",
            "| RBYFK3W84LW9F|          2|           32|         37|   N|                Y|      0.8648648648648649|\n",
            "| RT880ROJ1I4Z5|          5|           22|         31|   N|                N|      0.7096774193548387|\n",
            "|R2ICLUNZ6A5DXB|          1|           16|         23|   N|                Y|      0.6956521739130435|\n",
            "|R3H11HIP4SCL9V|          5|           31|         33|   N|                Y|      0.9393939393939394|\n",
            "| RPG85MPSR10JG|          1|           23|         26|   N|                Y|      0.8846153846153846|\n",
            "|R2UAVRDG3AUF3K|          5|           14|         21|   N|                N|      0.6666666666666666|\n",
            "|R2CEZU1K5CVLRL|          1|           17|         22|   N|                Y|      0.7727272727272727|\n",
            "+--------------+-----------+-------------+-----------+----+-----------------+------------------------+\n",
            "only showing top 20 rows\n",
            "\n"
          ]
        }
      ]
    },
    {
      "cell_type": "code",
      "metadata": {
        "colab": {
          "base_uri": "https://localhost:8080/"
        },
        "id": "K28EHWSiYj66",
        "outputId": "4eb3c731-88bb-42db-fdec-b740873b3ef2"
      },
      "source": [
        "df_vine_valued_reviews.count()"
      ],
      "execution_count": 17,
      "outputs": [
        {
          "output_type": "execute_result",
          "data": {
            "text/plain": [
              "79160"
            ]
          },
          "metadata": {},
          "execution_count": 17
        }
      ]
    },
    {
      "cell_type": "code",
      "metadata": {
        "id": "KRDdtSIyYnP9"
      },
      "source": [
        "df_paid_reviews=df_vine_valued_reviews.filter('vine==\"Y\"')"
      ],
      "execution_count": 18,
      "outputs": []
    },
    {
      "cell_type": "code",
      "metadata": {
        "colab": {
          "base_uri": "https://localhost:8080/"
        },
        "id": "wuCSdT6rZVL3",
        "outputId": "ad280f80-c9f5-443b-e169-cb99a0ad1da9"
      },
      "source": [
        "df_paid_reviews.show()"
      ],
      "execution_count": 19,
      "outputs": [
        {
          "output_type": "stream",
          "name": "stdout",
          "text": [
            "+--------------+-----------+-------------+-----------+----+-----------------+------------------------+\n",
            "|     review_id|star_rating|helpful_votes|total_votes|vine|verified_purchase|helpful_over_total_votes|\n",
            "+--------------+-----------+-------------+-----------+----+-----------------+------------------------+\n",
            "|R3J2DPYUH6453D|          5|          136|        153|   Y|                N|      0.8888888888888888|\n",
            "|R25QTFLERWK6SJ|          3|          852|        956|   Y|                N|       0.891213389121339|\n",
            "|R1BG71K9B61LI1|          4|           39|         39|   Y|                N|                     1.0|\n",
            "| R8WGX426U56E0|          5|           19|         21|   Y|                N|      0.9047619047619048|\n",
            "| R614TCIDD36LE|          4|          131|        147|   Y|                N|       0.891156462585034|\n",
            "|R28X5K1OZBQSBK|          5|           25|         28|   Y|                N|      0.8928571428571429|\n",
            "|R2CUDWKAUWGHIT|          5|           19|         24|   Y|                N|      0.7916666666666666|\n",
            "| R886ADSI1HBU5|          5|           88|         97|   Y|                N|      0.9072164948453608|\n",
            "|R3TTJTAND1CCSV|          5|           21|         23|   Y|                N|      0.9130434782608695|\n",
            "|R1W39WXYWNFJBG|          5|           32|         35|   Y|                N|      0.9142857142857143|\n",
            "|R18WUOSN0TQD9X|          4|           25|         26|   Y|                N|      0.9615384615384616|\n",
            "|R2UGZFCPGAI6OP|          5|           19|         21|   Y|                N|      0.9047619047619048|\n",
            "| R7Y17L4FLYYXN|          4|           23|         30|   Y|                N|      0.7666666666666667|\n",
            "|R1YEAR1J3MEI3I|          2|          143|        159|   Y|                N|        0.89937106918239|\n",
            "|R1FI3ZKOA0RMR9|          5|          145|        164|   Y|                N|      0.8841463414634146|\n",
            "| RFZQEATC76JDP|          3|           17|         22|   Y|                N|      0.7727272727272727|\n",
            "|R1LDVLZ6TI5MSX|          3|           18|         27|   Y|                N|      0.6666666666666666|\n",
            "|R3GNG9SISW41OZ|          5|          143|        153|   Y|                N|       0.934640522875817|\n",
            "| RSDDNABYLRGA1|          3|           60|         71|   Y|                N|      0.8450704225352113|\n",
            "|R2YKR6HFL47R8L|          5|           26|         35|   Y|                N|      0.7428571428571429|\n",
            "+--------------+-----------+-------------+-----------+----+-----------------+------------------------+\n",
            "only showing top 20 rows\n",
            "\n"
          ]
        }
      ]
    },
    {
      "cell_type": "code",
      "metadata": {
        "id": "dflhtk1LZXqL"
      },
      "source": [
        "paid_reviews=df_paid_reviews.count()"
      ],
      "execution_count": 20,
      "outputs": []
    },
    {
      "cell_type": "code",
      "metadata": {
        "colab": {
          "base_uri": "https://localhost:8080/"
        },
        "id": "8InrZFb0bvVc",
        "outputId": "3c939c92-5786-402e-f12d-32f27aeaf10d"
      },
      "source": [
        "paid_reviews"
      ],
      "execution_count": 21,
      "outputs": [
        {
          "output_type": "execute_result",
          "data": {
            "text/plain": [
              "1775"
            ]
          },
          "metadata": {},
          "execution_count": 21
        }
      ]
    },
    {
      "cell_type": "code",
      "metadata": {
        "id": "w_vfXHMlZcmC"
      },
      "source": [
        "df_unpaid_reviews=df_vine_valued_reviews.filter('vine==\"N\"')"
      ],
      "execution_count": 22,
      "outputs": []
    },
    {
      "cell_type": "code",
      "metadata": {
        "colab": {
          "base_uri": "https://localhost:8080/"
        },
        "id": "ijxc_AIwadw9",
        "outputId": "6e43d699-7634-48ad-a1a3-0f17e233ec74"
      },
      "source": [
        "df_unpaid_reviews.show()"
      ],
      "execution_count": 23,
      "outputs": [
        {
          "output_type": "stream",
          "name": "stdout",
          "text": [
            "+--------------+-----------+-------------+-----------+----+-----------------+------------------------+\n",
            "|     review_id|star_rating|helpful_votes|total_votes|vine|verified_purchase|helpful_over_total_votes|\n",
            "+--------------+-----------+-------------+-----------+----+-----------------+------------------------+\n",
            "| RQ28TSA020Y6J|          5|           24|         31|   N|                N|      0.7741935483870968|\n",
            "|R25D83AEJRXUWO|          4|           18|         21|   N|                Y|      0.8571428571428571|\n",
            "|R1S9O5CCTD61ZD|          1|           45|         71|   N|                N|      0.6338028169014085|\n",
            "|R351KVE3VO78W9|          3|           36|         42|   N|                Y|      0.8571428571428571|\n",
            "| R4LANIHO6EXAH|          4|           35|         35|   N|                Y|                     1.0|\n",
            "|R3V26MZUOWAUA4|          3|           35|         45|   N|                Y|      0.7777777777777778|\n",
            "|R38OLNY5GR1PW6|          5|           44|         44|   N|                Y|                     1.0|\n",
            "|R2GK7RJNIAREIT|          1|           30|         32|   N|                Y|                  0.9375|\n",
            "|R2OWRP6FXXECMK|          1|           42|         44|   N|                Y|      0.9545454545454546|\n",
            "| ROR2FE6Y8EZYG|          5|           19|         22|   N|                Y|      0.8636363636363636|\n",
            "|R1UWNRDWUZR68D|          3|           60|         60|   N|                Y|                     1.0|\n",
            "| RIJYX8PG45XOB|          5|           51|         52|   N|                Y|      0.9807692307692307|\n",
            "|R24PUIWP0XB411|          1|           27|         27|   N|                Y|                     1.0|\n",
            "| RBYFK3W84LW9F|          2|           32|         37|   N|                Y|      0.8648648648648649|\n",
            "| RT880ROJ1I4Z5|          5|           22|         31|   N|                N|      0.7096774193548387|\n",
            "|R2ICLUNZ6A5DXB|          1|           16|         23|   N|                Y|      0.6956521739130435|\n",
            "|R3H11HIP4SCL9V|          5|           31|         33|   N|                Y|      0.9393939393939394|\n",
            "| RPG85MPSR10JG|          1|           23|         26|   N|                Y|      0.8846153846153846|\n",
            "|R2UAVRDG3AUF3K|          5|           14|         21|   N|                N|      0.6666666666666666|\n",
            "|R2CEZU1K5CVLRL|          1|           17|         22|   N|                Y|      0.7727272727272727|\n",
            "+--------------+-----------+-------------+-----------+----+-----------------+------------------------+\n",
            "only showing top 20 rows\n",
            "\n"
          ]
        }
      ]
    },
    {
      "cell_type": "code",
      "metadata": {
        "id": "nUKaL85oajvm"
      },
      "source": [
        "unpaid_reviews=df_unpaid_reviews.count()"
      ],
      "execution_count": 24,
      "outputs": []
    },
    {
      "cell_type": "code",
      "metadata": {
        "colab": {
          "base_uri": "https://localhost:8080/"
        },
        "id": "Qh26y9GMb2Um",
        "outputId": "a4b361fb-c2f8-4d23-c258-681680fd163b"
      },
      "source": [
        "unpaid_reviews"
      ],
      "execution_count": 25,
      "outputs": [
        {
          "output_type": "execute_result",
          "data": {
            "text/plain": [
              "77385"
            ]
          },
          "metadata": {},
          "execution_count": 25
        }
      ]
    },
    {
      "cell_type": "code",
      "metadata": {
        "id": "CKr1NBcCand1"
      },
      "source": [
        "paid_reviews_5s=df_paid_reviews.filter('star_rating==5').count()"
      ],
      "execution_count": 26,
      "outputs": []
    },
    {
      "cell_type": "code",
      "metadata": {
        "colab": {
          "base_uri": "https://localhost:8080/"
        },
        "id": "OOUCsMhfcDqO",
        "outputId": "1eaec616-7fd3-4666-a5d8-86ce75d60387"
      },
      "source": [
        "paid_reviews_5s"
      ],
      "execution_count": 27,
      "outputs": [
        {
          "output_type": "execute_result",
          "data": {
            "text/plain": [
              "783"
            ]
          },
          "metadata": {},
          "execution_count": 27
        }
      ]
    },
    {
      "cell_type": "code",
      "metadata": {
        "id": "ob-ioPunbLWp"
      },
      "source": [
        "unpaid_reviews_5s=df_unpaid_reviews.filter('star_rating==5').count()"
      ],
      "execution_count": 28,
      "outputs": []
    },
    {
      "cell_type": "code",
      "metadata": {
        "colab": {
          "base_uri": "https://localhost:8080/"
        },
        "id": "_KdusrOlbZxt",
        "outputId": "5d9e4c0b-fe62-440f-cc86-f776150fde52"
      },
      "source": [
        "unpaid_reviews_5s"
      ],
      "execution_count": 29,
      "outputs": [
        {
          "output_type": "execute_result",
          "data": {
            "text/plain": [
              "35949"
            ]
          },
          "metadata": {},
          "execution_count": 29
        }
      ]
    },
    {
      "cell_type": "code",
      "metadata": {
        "colab": {
          "base_uri": "https://localhost:8080/"
        },
        "id": "ewnk50sjcOGm",
        "outputId": "6dc555c5-8955-46c6-f26d-57bc3e4eea80"
      },
      "source": [
        "paid_reviews_5s_pct = paid_reviews_5s / paid_reviews\n",
        "paid_reviews_5s_pct"
      ],
      "execution_count": 30,
      "outputs": [
        {
          "output_type": "execute_result",
          "data": {
            "text/plain": [
              "0.4411267605633803"
            ]
          },
          "metadata": {},
          "execution_count": 30
        }
      ]
    },
    {
      "cell_type": "code",
      "metadata": {
        "colab": {
          "base_uri": "https://localhost:8080/"
        },
        "id": "aU98Nr11cYHp",
        "outputId": "5abcedb2-2b1b-4d5c-ec9d-798e7134102f"
      },
      "source": [
        "unpaid_reviews_5s_pct = unpaid_reviews_5s / unpaid_reviews\n",
        "unpaid_reviews_5s_pct"
      ],
      "execution_count": 31,
      "outputs": [
        {
          "output_type": "execute_result",
          "data": {
            "text/plain": [
              "0.4645473929056019"
            ]
          },
          "metadata": {},
          "execution_count": 31
        }
      ]
    },
    {
      "cell_type": "code",
      "metadata": {
        "id": "8Xt2bQfWcfZ4"
      },
      "source": [
        ""
      ],
      "execution_count": null,
      "outputs": []
    }
  ]
}